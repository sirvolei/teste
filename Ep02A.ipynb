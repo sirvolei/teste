{
 "cells": [
  {
   "cell_type": "code",
   "execution_count": 40,
   "metadata": {},
   "outputs": [
    {
     "name": "stdout",
     "output_type": "stream",
     "text": [
      "[[11, 0, 1], [0.0, 5.0, -1.0], [0.0, 0.0, -1.2909090909090908]]\n",
      "[[11, 0, 1], [0.0, 5.0, -1.0], [0.0, 0.0, -1.2909090909090908]]\n",
      "[5, 14, 0]\n"
     ]
    },
    {
     "ename": "ZeroDivisionError",
     "evalue": "float division by zero",
     "output_type": "error",
     "traceback": [
      "\u001b[1;31m---------------------------------------------------------------------------\u001b[0m",
      "\u001b[1;31mZeroDivisionError\u001b[0m                         Traceback (most recent call last)",
      "\u001b[1;32m<ipython-input-40-1f7a4f9617ec>\u001b[0m in \u001b[0;36m<module>\u001b[1;34m\u001b[0m\n\u001b[0;32m     67\u001b[0m     \u001b[0mprint\u001b[0m\u001b[1;33m(\u001b[0m\u001b[1;34m'{} \\n\\n {} \\n\\n {}'\u001b[0m\u001b[1;33m.\u001b[0m\u001b[0mformat\u001b[0m\u001b[1;33m(\u001b[0m\u001b[0msol1\u001b[0m\u001b[1;33m,\u001b[0m \u001b[0msol2\u001b[0m\u001b[1;33m,\u001b[0m \u001b[0mlinalg\u001b[0m\u001b[1;33m.\u001b[0m\u001b[0msolve\u001b[0m\u001b[1;33m(\u001b[0m\u001b[0mmatriz\u001b[0m\u001b[1;33m,\u001b[0m \u001b[0mvetor\u001b[0m\u001b[1;33m)\u001b[0m\u001b[1;33m)\u001b[0m\u001b[1;33m)\u001b[0m\u001b[1;33m\u001b[0m\u001b[1;33m\u001b[0m\u001b[0m\n\u001b[0;32m     68\u001b[0m \u001b[1;32mif\u001b[0m \u001b[0m__name__\u001b[0m \u001b[1;33m==\u001b[0m \u001b[1;34m\"__main__\"\u001b[0m\u001b[1;33m:\u001b[0m\u001b[1;33m\u001b[0m\u001b[1;33m\u001b[0m\u001b[0m\n\u001b[1;32m---> 69\u001b[1;33m     \u001b[0mmain\u001b[0m\u001b[1;33m(\u001b[0m\u001b[1;33m)\u001b[0m\u001b[1;33m\u001b[0m\u001b[1;33m\u001b[0m\u001b[0m\n\u001b[0m",
      "\u001b[1;32m<ipython-input-40-1f7a4f9617ec>\u001b[0m in \u001b[0;36mmain\u001b[1;34m()\u001b[0m\n\u001b[0;32m     64\u001b[0m     \u001b[0msol1\u001b[0m \u001b[1;33m=\u001b[0m \u001b[0mgauss\u001b[0m\u001b[1;33m(\u001b[0m\u001b[0mmatriz\u001b[0m\u001b[1;33m,\u001b[0m \u001b[0mvetor\u001b[0m\u001b[1;33m)\u001b[0m\u001b[1;33m\u001b[0m\u001b[1;33m\u001b[0m\u001b[0m\n\u001b[0;32m     65\u001b[0m     \u001b[0mprint\u001b[0m\u001b[1;33m(\u001b[0m\u001b[0mvetor\u001b[0m\u001b[1;33m)\u001b[0m\u001b[1;33m\u001b[0m\u001b[1;33m\u001b[0m\u001b[0m\n\u001b[1;32m---> 66\u001b[1;33m     \u001b[0msol2\u001b[0m \u001b[1;33m=\u001b[0m \u001b[0mjacobi\u001b[0m\u001b[1;33m(\u001b[0m\u001b[0mmatriz\u001b[0m\u001b[1;33m,\u001b[0m \u001b[0mvetor\u001b[0m\u001b[1;33m,\u001b[0m \u001b[1;36m1e-3\u001b[0m\u001b[1;33m,\u001b[0m \u001b[1;33m[\u001b[0m\u001b[1;33m-\u001b[0m\u001b[1;36m5\u001b[0m\u001b[1;33m,\u001b[0m\u001b[1;36m1\u001b[0m\u001b[1;33m,\u001b[0m\u001b[1;36m0\u001b[0m\u001b[1;33m]\u001b[0m\u001b[1;33m)\u001b[0m\u001b[1;33m\u001b[0m\u001b[1;33m\u001b[0m\u001b[0m\n\u001b[0m\u001b[0;32m     67\u001b[0m     \u001b[0mprint\u001b[0m\u001b[1;33m(\u001b[0m\u001b[1;34m'{} \\n\\n {} \\n\\n {}'\u001b[0m\u001b[1;33m.\u001b[0m\u001b[0mformat\u001b[0m\u001b[1;33m(\u001b[0m\u001b[0msol1\u001b[0m\u001b[1;33m,\u001b[0m \u001b[0msol2\u001b[0m\u001b[1;33m,\u001b[0m \u001b[0mlinalg\u001b[0m\u001b[1;33m.\u001b[0m\u001b[0msolve\u001b[0m\u001b[1;33m(\u001b[0m\u001b[0mmatriz\u001b[0m\u001b[1;33m,\u001b[0m \u001b[0mvetor\u001b[0m\u001b[1;33m)\u001b[0m\u001b[1;33m)\u001b[0m\u001b[1;33m)\u001b[0m\u001b[1;33m\u001b[0m\u001b[1;33m\u001b[0m\u001b[0m\n\u001b[0;32m     68\u001b[0m \u001b[1;32mif\u001b[0m \u001b[0m__name__\u001b[0m \u001b[1;33m==\u001b[0m \u001b[1;34m\"__main__\"\u001b[0m\u001b[1;33m:\u001b[0m\u001b[1;33m\u001b[0m\u001b[1;33m\u001b[0m\u001b[0m\n",
      "\u001b[1;32m<ipython-input-40-1f7a4f9617ec>\u001b[0m in \u001b[0;36mjacobi\u001b[1;34m(A, V, tol, v, k)\u001b[0m\n\u001b[0;32m     53\u001b[0m         \u001b[1;32mfor\u001b[0m \u001b[0mcol\u001b[0m \u001b[1;32min\u001b[0m \u001b[0mrange\u001b[0m\u001b[1;33m(\u001b[0m\u001b[0mn\u001b[0m\u001b[1;33m)\u001b[0m\u001b[1;33m:\u001b[0m \u001b[1;31m#Percorre cada elemento da linha\u001b[0m\u001b[1;33m\u001b[0m\u001b[1;33m\u001b[0m\u001b[0m\n\u001b[0;32m     54\u001b[0m             \u001b[1;32mif\u001b[0m \u001b[0mlin\u001b[0m \u001b[1;33m!=\u001b[0m \u001b[0mcol\u001b[0m\u001b[1;33m:\u001b[0m \u001b[0msoma\u001b[0m \u001b[1;33m+=\u001b[0m \u001b[0mv\u001b[0m\u001b[1;33m[\u001b[0m\u001b[0mcol\u001b[0m\u001b[1;33m]\u001b[0m\u001b[1;33m*\u001b[0m\u001b[0mA\u001b[0m\u001b[1;33m[\u001b[0m\u001b[0mlin\u001b[0m\u001b[1;33m]\u001b[0m\u001b[1;33m[\u001b[0m\u001b[0mcol\u001b[0m\u001b[1;33m]\u001b[0m \u001b[1;31m#Evita que seja usado o elemento que estou percorrendo\u001b[0m\u001b[1;33m\u001b[0m\u001b[1;33m\u001b[0m\u001b[0m\n\u001b[1;32m---> 55\u001b[1;33m         \u001b[0msol\u001b[0m\u001b[1;33m[\u001b[0m\u001b[0mlin\u001b[0m\u001b[1;33m]\u001b[0m \u001b[1;33m=\u001b[0m \u001b[1;33m(\u001b[0m\u001b[0mV\u001b[0m\u001b[1;33m[\u001b[0m\u001b[0mlin\u001b[0m\u001b[1;33m]\u001b[0m \u001b[1;33m-\u001b[0m \u001b[0msoma\u001b[0m\u001b[1;33m)\u001b[0m\u001b[1;33m/\u001b[0m\u001b[0mA\u001b[0m\u001b[1;33m[\u001b[0m\u001b[0mlin\u001b[0m\u001b[1;33m]\u001b[0m\u001b[1;33m[\u001b[0m\u001b[0mlin\u001b[0m\u001b[1;33m]\u001b[0m \u001b[1;31m#Gera a nova entrada da solução\u001b[0m\u001b[1;33m\u001b[0m\u001b[1;33m\u001b[0m\u001b[0m\n\u001b[0m\u001b[0;32m     56\u001b[0m \u001b[1;33m\u001b[0m\u001b[0m\n\u001b[0;32m     57\u001b[0m     \u001b[1;32mif\u001b[0m \u001b[0mabs\u001b[0m\u001b[1;33m(\u001b[0m\u001b[0msol\u001b[0m\u001b[1;33m[\u001b[0m\u001b[1;36m0\u001b[0m\u001b[1;33m]\u001b[0m \u001b[1;33m-\u001b[0m \u001b[0mv\u001b[0m\u001b[1;33m[\u001b[0m\u001b[1;36m0\u001b[0m\u001b[1;33m]\u001b[0m\u001b[1;33m)\u001b[0m \u001b[1;33m<\u001b[0m \u001b[0mtol\u001b[0m\u001b[1;33m:\u001b[0m \u001b[1;32mreturn\u001b[0m \u001b[0msol\u001b[0m\u001b[1;33m\u001b[0m\u001b[1;33m\u001b[0m\u001b[0m\n",
      "\u001b[1;31mZeroDivisionError\u001b[0m: float division by zero"
     ]
    }
   ],
   "source": [
    "#Verifica se há necessidade de pivotamento, caso positivo faz o pivotamento\n",
    "# (inteiro, vetor, matriz) -> none\n",
    "from numpy import *\n",
    "def pivo(col, b, M): \n",
    "    n = len(M)\n",
    "    jmax = col\n",
    "    for k in range(col+1,n):\n",
    "        if abs(M[k][col]) > abs(M[jmax][col]): jmax = k\n",
    "    M[col],M[jmax] = M[jmax], M[col]\n",
    "    b[col], b[jmax] = b[jmax], b[col]\n",
    "\n",
    "#Torna a matriz nxn em uma matriz triangular superior\n",
    "# (Matriz, vetor) -> (Matriz, vetor)\n",
    "def trian(A,V):\n",
    "    M = A[:] # Para a matriz não ser alterada\n",
    "    b = V[:] # Para o vetor não ser alterado\n",
    "    n = len(M)\n",
    "    for k in range(0,n-1):\n",
    "        pivo(k, b, M)\n",
    "        for t in range(k+1,n):\n",
    "            divisor = M[t][k]/M[k][k]\n",
    "            for col in range(k,n):\n",
    "                M[t][col] = M[t][col] - M[k][col]*divisor \n",
    "            b[t] = b[t] - b[k]*divisor\n",
    "    return M, b\n",
    "\n",
    "#Faz a retrosubstituição e devolve uma lista com as soluções\n",
    "# (Matriz, vetor) -> vetor\n",
    "def sub(A, b):\n",
    "    M = A[:] # Para a matriz não ser alterada\n",
    "    n = len(b)\n",
    "    sol = [0]*n\n",
    "    sol[n-1] = b[n-1]/M[n-1][n-1]\n",
    "    for k in range(n-2,-1,-1):\n",
    "        print(M)\n",
    "        soma = b[k]\n",
    "        for j in range(k+1,n):\n",
    "            soma -= M[k][j]*sol[j]\n",
    "        sol[k] = soma/M[k][k]\n",
    "    return sol\n",
    "\n",
    "#Função principal que define a solução do sistema linear\n",
    "def gauss(M, b):\n",
    "    mat, vet = trian(M, b)\n",
    "    solucao = sub(mat, vet)\n",
    "    return solucao\n",
    "\n",
    "def jacobi(A, V, tol, v, k=0):\n",
    "    n = len(V)\n",
    "    sol = [0]*n\n",
    "    for lin in range(n): #Percorre as linhas da matriz\n",
    "        soma = 0\n",
    "        for col in range(n): #Percorre cada elemento da linha\n",
    "            if lin != col: soma += v[col]*A[lin][col] #Evita que seja usado o elemento que estou percorrendo\n",
    "        sol[lin] = (V[lin] - soma)/A[lin][lin] #Gera a nova entrada da solução\n",
    " \n",
    "    if abs(sol[0] - v[0]) < tol: return sol\n",
    "    else: return jacobi(A,V,tol,sol, k+1)\n",
    "\n",
    "# Função que resolve o problema dado\n",
    "def main():\n",
    "    matriz = [ [ 0 , 5 , -1 ] , [11 , 0 , 1] , [ 1 , -1 , -1]]\n",
    "    vetor = [5,14,0]\n",
    "    sol1 = gauss(matriz, vetor)\n",
    "    print(vetor)\n",
    "    sol2 = jacobi(matriz, vetor, 1e-3, [-5,1,0])\n",
    "    print('{} \\n\\n {} \\n\\n {}'.format(sol1, sol2, linalg.solve(matriz, vetor)))\n",
    "if __name__ == \"__main__\":\n",
    "    main()"
   ]
  }
 ],
 "metadata": {
  "kernelspec": {
   "display_name": "Python 3",
   "language": "python",
   "name": "python3"
  },
  "language_info": {
   "codemirror_mode": {
    "name": "ipython",
    "version": 3
   },
   "file_extension": ".py",
   "mimetype": "text/x-python",
   "name": "python",
   "nbconvert_exporter": "python",
   "pygments_lexer": "ipython3",
   "version": "3.7.3"
  }
 },
 "nbformat": 4,
 "nbformat_minor": 2
}
